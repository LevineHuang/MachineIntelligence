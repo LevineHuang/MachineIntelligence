{
 "cells": [
  {
   "cell_type": "markdown",
   "metadata": {},
   "source": [
    "Annual Water Usage"
   ]
  },
  {
   "cell_type": "code",
   "execution_count": 1,
   "metadata": {
    "collapsed": false
   },
   "outputs": [
    {
     "name": "stdout",
     "output_type": "stream",
     "text": [
      "scipy: 0.18.1\n",
      "numpy: 1.11.3\n",
      "matplotlib: 1.5.3\n",
      "pandas: 0.18.1\n",
      "sklearn: 0.18.1\n",
      "statsmodels: 0.6.1\n"
     ]
    }
   ],
   "source": [
    "# scipy\n",
    "import scipy\n",
    "print('scipy: %s' % scipy.__version__)\n",
    "# numpy\n",
    "import numpy\n",
    "print('numpy: %s' % numpy.__version__)\n",
    "# matplotlib\n",
    "import matplotlib\n",
    "print('matplotlib: %s' % matplotlib.__version__)\n",
    "# pandas\n",
    "import pandas\n",
    "print('pandas: %s' % pandas.__version__)\n",
    "# scikit-learn\n",
    "import sklearn\n",
    "print('sklearn: %s' % sklearn.__version__)\n",
    "# statsmodels\n",
    "import statsmodels\n",
    "print('statsmodels: %s' % statsmodels.__version__)"
   ]
  },
  {
   "cell_type": "markdown",
   "metadata": {},
   "source": [
    "### Validation Dataset"
   ]
  },
  {
   "cell_type": "code",
   "execution_count": 7,
   "metadata": {
    "collapsed": false
   },
   "outputs": [
    {
     "name": "stdout",
     "output_type": "stream",
     "text": [
      "Dataset 68, Validation 10\n"
     ]
    }
   ],
   "source": [
    "from pandas import Series\n",
    "series = Series.from_csv('../data/baltmore-city-annual-water-use-l.csv', header=1)\n",
    "split_point = len(series) - 10\n",
    "dataset, validation = series[0:split_point], series[split_point:]\n",
    "print('Dataset %d, Validation %d' % (len(dataset), len(validation)))\n",
    "dataset.to_csv('dataset.csv')\n",
    "validation.to_csv('validation.csv')"
   ]
  },
  {
   "cell_type": "markdown",
   "metadata": {},
   "source": [
    "### Model Evaluation"
   ]
  },
  {
   "cell_type": "code",
   "execution_count": 14,
   "metadata": {
    "collapsed": false
   },
   "outputs": [
    {
     "name": "stdout",
     "output_type": "stream",
     "text": [
      ">Predicted=503.000, Expected=503\n",
      ">Predicted=503.000, Expected=515\n",
      ">Predicted=515.000, Expected=522\n",
      ">Predicted=522.000, Expected=492\n",
      ">Predicted=492.000, Expected=503\n",
      ">Predicted=503.000, Expected=503\n",
      ">Predicted=503.000, Expected=450\n",
      ">Predicted=450.000, Expected=432\n",
      ">Predicted=432.000, Expected=432\n",
      ">Predicted=432.000, Expected=458\n",
      ">Predicted=458.000, Expected=462\n",
      ">Predicted=462.000, Expected=503\n",
      ">Predicted=503.000, Expected=488\n",
      ">Predicted=488.000, Expected=466\n",
      ">Predicted=466.000, Expected=492\n",
      ">Predicted=492.000, Expected=503\n",
      ">Predicted=503.000, Expected=515\n",
      ">Predicted=515.000, Expected=500\n",
      ">Predicted=500.000, Expected=522\n",
      ">Predicted=522.000, Expected=575\n",
      ">Predicted=575.000, Expected=583\n",
      ">Predicted=583.000, Expected=587\n",
      ">Predicted=587.000, Expected=628\n",
      ">Predicted=628.000, Expected=640\n",
      ">Predicted=640.000, Expected=609\n",
      ">Predicted=609.000, Expected=606\n",
      ">Predicted=606.000, Expected=632\n",
      ">Predicted=632.000, Expected=617\n",
      ">Predicted=617.000, Expected=613\n",
      ">Predicted=613.000, Expected=598\n",
      ">Predicted=598.000, Expected=575\n",
      ">Predicted=575.000, Expected=564\n",
      ">Predicted=564.000, Expected=549\n",
      ">Predicted=549.000, Expected=538\n",
      "RMSE: 22.295\n"
     ]
    }
   ],
   "source": [
    "from pandas import Series\n",
    "from sklearn.metrics import mean_squared_error\n",
    "from math import sqrt\n",
    "# load data\n",
    "series = Series.from_csv('dataset.csv')\n",
    "# prepare data\n",
    "X = series.values\n",
    "X = X.astype('float32')\n",
    "train_size = int(len(X) * 0.50)\n",
    "train, test = X[0:train_size], X[train_size:]\n",
    "# walk-forward validation\n",
    "history = [x for x in train]\n",
    "predictions = list()\n",
    "\n",
    "# baseline\n",
    "# 用序列的前一个值作为预测值\n",
    "for i in range(len(test)):\n",
    "\t# predict\n",
    "\tyhat = history[-1]\n",
    "\tpredictions.append(yhat)\n",
    "\t# observation\n",
    "\tobs = test[i]\n",
    "\thistory.append(obs)\n",
    "\tprint('>Predicted=%.3f, Expected=%3.f' % (yhat, obs))\n",
    "# report performance\n",
    "mse = mean_squared_error(test, predictions)\n",
    "rmse = sqrt(mse)\n",
    "print('RMSE: %.3f' % rmse)"
   ]
  },
  {
   "cell_type": "markdown",
   "metadata": {},
   "source": [
    "### Reference\n",
    "+ http://machinelearningmastery.com/time-series-forecast-study-python-annual-water-usage-baltimore/"
   ]
  },
  {
   "cell_type": "code",
   "execution_count": null,
   "metadata": {
    "collapsed": true
   },
   "outputs": [],
   "source": []
  },
  {
   "cell_type": "code",
   "execution_count": null,
   "metadata": {
    "collapsed": true
   },
   "outputs": [],
   "source": []
  }
 ],
 "metadata": {
  "anaconda-cloud": {},
  "kernelspec": {
   "display_name": "Python [conda root]",
   "language": "python",
   "name": "conda-root-py"
  },
  "language_info": {
   "codemirror_mode": {
    "name": "ipython",
    "version": 3
   },
   "file_extension": ".py",
   "mimetype": "text/x-python",
   "name": "python",
   "nbconvert_exporter": "python",
   "pygments_lexer": "ipython3",
   "version": "3.5.2"
  }
 },
 "nbformat": 4,
 "nbformat_minor": 1
}
