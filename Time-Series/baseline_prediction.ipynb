{
 "cells": [
  {
   "cell_type": "markdown",
   "metadata": {
    "deletable": true,
    "editable": true,
    "run_control": {
     "frozen": false,
     "read_only": false
    }
   },
   "source": [
    "### baseline必要性\n",
    "通过与baseline对比，判断其他模型的效果如何，从而判断某个模型应该继续改进还是抛弃。\n",
    "\n",
    "The technique used to generate a forecast to calculate the baseline performance must be easy to implement and naive of problem-specific details.\n",
    "\n",
    "#### 建baseline之前，需develop a test harness：\n",
    "+ The dataset you intend to use to train and evaluate models.\n",
    "+ The resampling technique you intend to use to estimate the performance of the technique (e.g. train/test split).\n",
    "+ The performance measure you intend to use to evaluate forecasts (e.g. mean squared error).\n",
    "\n",
    "#### 一个好的baseline forecast技术的3个特点：\n",
    "+ Simple: A method that requires little or no training or intelligence.\n",
    "+ Fast: A method that is fast to implement and computationally trivial to make a prediction.\n",
    "+ Repeatable: A method that is deterministic, meaning that it produces an expected output given the same input.\n",
    "\n",
    "#### 监督及其学习最常用的baseline方法\n",
    "+ Zero Rule算法[http://machinelearningmastery.com/implement-baseline-machine-learning-algorithms-scratch-python/]\n",
    "\n",
    "+ Random Prediction Algorithm.\n",
    "\n",
    "+ Persistence Algorithm\n",
    "\n",
    "\n"
   ]
  },
  {
   "cell_type": "markdown",
   "metadata": {
    "deletable": true,
    "editable": true,
    "run_control": {
     "frozen": false,
     "read_only": false
    }
   },
   "source": [
    "#### 1. Random Prediction Algorithm"
   ]
  },
  {
   "cell_type": "code",
   "execution_count": 39,
   "metadata": {
    "collapsed": false,
    "deletable": true,
    "editable": true,
    "run_control": {
     "frozen": false,
     "read_only": false
    }
   },
   "outputs": [
    {
     "name": "stdout",
     "output_type": "stream",
     "text": [
      "[0, 0, 1, 0]\n"
     ]
    }
   ],
   "source": [
    "from random import seed\n",
    "from random import randrange\n",
    "\n",
    "# Generate random predictions\n",
    "def random_algorithm(train, test):\n",
    "\toutput_values = [row[-1] for row in train]\n",
    "\tunique = list(set(output_values))\n",
    "\tpredicted = list()\n",
    "\tfor row in test:\n",
    "\t\tindex = randrange(len(unique))\n",
    "\t\tpredicted.append(unique[index])\n",
    "\treturn predicted\n",
    "\n",
    "seed(1)\n",
    "train = [[0], [1], [0], [1], [0], [1]]\n",
    "test = [[None], [None], [None], [None]]\n",
    "predictions = random_algorithm(train, test)\n",
    "print(predictions)"
   ]
  },
  {
   "cell_type": "markdown",
   "metadata": {
    "deletable": true,
    "editable": true,
    "run_control": {
     "frozen": false,
     "read_only": false
    }
   },
   "source": [
    "#### 2. Zero Rule Algorithm\n",
    "The Zero Rule Algorithm is a better baseline than the random algorithm."
   ]
  },
  {
   "cell_type": "markdown",
   "metadata": {
    "deletable": true,
    "editable": true,
    "run_control": {
     "frozen": false,
     "read_only": false
    }
   },
   "source": [
    "##### 分类问题"
   ]
  },
  {
   "cell_type": "code",
   "execution_count": 42,
   "metadata": {
    "collapsed": false,
    "deletable": true,
    "editable": true,
    "run_control": {
     "frozen": false,
     "read_only": false
    }
   },
   "outputs": [
    {
     "name": "stdout",
     "output_type": "stream",
     "text": [
      "['0', '0', '0', '0', '0', '0']\n"
     ]
    }
   ],
   "source": [
    "from random import seed\n",
    "from random import randrange\n",
    "\n",
    "# zero rule algorithm for classification\n",
    "def zero_rule_algorithm_classification(train, test):\n",
    "\toutput_values = [row[-1] for row in train]\n",
    "    # 取出现次数最多的\n",
    "\tprediction = max(set(output_values), key=output_values.count)\n",
    "\tpredicted = [prediction for i in range(len(train))]\n",
    "\treturn predicted\n",
    "\n",
    "seed(1)\n",
    "train = [['0'], ['0'], ['0'], ['0'], ['1'], ['1']]\n",
    "test = [[None], [None], [None], [None]]\n",
    "predictions = zero_rule_algorithm_classification(train, test)\n",
    "print(predictions)"
   ]
  },
  {
   "cell_type": "markdown",
   "metadata": {
    "deletable": true,
    "editable": true,
    "run_control": {
     "frozen": false,
     "read_only": false
    }
   },
   "source": [
    "##### 回归问题\n",
    "取mean,  median，the mean of the last n records "
   ]
  },
  {
   "cell_type": "code",
   "execution_count": 41,
   "metadata": {
    "collapsed": false,
    "deletable": true,
    "editable": true,
    "run_control": {
     "frozen": false,
     "read_only": false
    }
   },
   "outputs": [
    {
     "name": "stdout",
     "output_type": "stream",
     "text": [
      "[15.0, 15.0, 15.0, 15.0]\n"
     ]
    }
   ],
   "source": [
    "from random import seed\n",
    "from random import randrange\n",
    "\n",
    "# zero rule algorithm for regression\n",
    "def zero_rule_algorithm_regression(train, test):\n",
    "\toutput_values = [row[-1] for row in train]\n",
    "\tprediction = sum(output_values) / float(len(output_values))\n",
    "\tpredicted = [prediction for i in range(len(test))]\n",
    "\treturn predicted\n",
    "\n",
    "seed(1)\n",
    "train = [[10], [15], [12], [15], [18], [20]]\n",
    "test = [[None], [None], [None], [None]]\n",
    "predictions = zero_rule_algorithm_regression(train, test)\n",
    "print(predictions)"
   ]
  },
  {
   "cell_type": "code",
   "execution_count": 20,
   "metadata": {
    "collapsed": false,
    "deletable": true,
    "editable": true,
    "run_control": {
     "frozen": false,
     "read_only": false
    }
   },
   "outputs": [
    {
     "data": {
      "image/png": "iVBORw0KGgoAAAANSUhEUgAAAXoAAAEVCAYAAADuAi4fAAAABHNCSVQICAgIfAhkiAAAAAlwSFlz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\nMrNzS9GeVkkAAAAASUVORK5CYII=\n",
      "text/plain": [
       "<matplotlib.figure.Figure at 0x7f62b4d51fd0>"
      ]
     },
     "metadata": {},
     "output_type": "display_data"
    }
   ],
   "source": [
    "from pandas import read_csv,DataFrame\n",
    "from pandas import datetime\n",
    "from matplotlib import pyplot\n",
    "\n",
    "def parser(x):\n",
    "\t# return datetime.strptime('190'+x, '%Y/%m')\n",
    "    return datetime.strptime(x, '%Y/%m/%d')\n",
    "\n",
    "series = read_csv('../data/sales-of-shampoo-over-a-three-year.csv', \n",
    "                  header=1, parse_dates=[0], index_col=0, squeeze=True, date_parser=parser, engine='python', skipfooter=2)\n",
    "series.plot()\n",
    "pyplot.show()"
   ]
  },
  {
   "cell_type": "markdown",
   "metadata": {
    "deletable": true,
    "editable": true,
    "run_control": {
     "frozen": false,
     "read_only": false
    }
   },
   "source": [
    "Step 1: Define the Supervised Learning Problem"
   ]
  },
  {
   "cell_type": "code",
   "execution_count": 18,
   "metadata": {
    "collapsed": false,
    "deletable": true,
    "editable": true,
    "run_control": {
     "frozen": false,
     "read_only": false
    }
   },
   "outputs": [
    {
     "name": "stdout",
     "output_type": "stream",
     "text": [
      "     t-1    t+1\n",
      "0    NaN  145.9\n",
      "1  145.9  183.1\n",
      "2  183.1  119.3\n",
      "3  119.3  180.3\n",
      "4  180.3  168.5\n"
     ]
    }
   ],
   "source": [
    "import pandas as pd\n",
    "# Create lagged dataset\n",
    "values = pd.DataFrame(series.values)\n",
    "dataframe = pd.concat([values.shift(1), values], axis=1)\n",
    "dataframe.columns = ['t-1', 't+1']\n",
    "print(dataframe.head(5))"
   ]
  },
  {
   "cell_type": "code",
   "execution_count": 47,
   "metadata": {
    "collapsed": false,
    "deletable": true,
    "editable": true,
    "run_control": {
     "frozen": false,
     "read_only": false
    }
   },
   "outputs": [
    {
     "name": "stdout",
     "output_type": "stream",
     "text": [
      "     t-1    t+1\n",
      "0    NaN  145.9\n",
      "1  145.9  183.1\n",
      "2  183.1  119.3\n",
      "3  119.3  180.3\n",
      "4  180.3  168.5\n",
      "Test MSE: 18703.658\n"
     ]
    },
    {
     "data": {
      "image/png": "iVBORw0KGgoAAAANSUhEUgAAAYgAAAEWCAYAAAB8LwAVAAAABHNCSVQICAgIfAhkiAAAAAlwSFlz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\nR5oglFJKeaQJQimllEeaIJRSSnn0/2lQrX5TYBGAAAAAAElFTkSuQmCC\n",
      "text/plain": [
       "<matplotlib.figure.Figure at 0x7f62b4ac4a90>"
      ]
     },
     "metadata": {},
     "output_type": "display_data"
    }
   ],
   "source": [
    "from pandas import read_csv\n",
    "from pandas import datetime\n",
    "from pandas import DataFrame\n",
    "from pandas import concat\n",
    "from matplotlib import pyplot\n",
    "from sklearn.metrics import mean_squared_error\n",
    "\n",
    "def parser(x):\n",
    "\treturn datetime.strptime(x, '%Y/%m/%d')\n",
    "\n",
    "series = read_csv('../data/sales-of-shampoo-over-a-three-year.csv', \n",
    "                  header=1, parse_dates=[0], index_col=0, squeeze=True, date_parser=parser, engine='python', skipfooter=2)\n",
    "# Create lagged dataset\n",
    "values = DataFrame(series.values)\n",
    "dataframe = concat([values.shift(1), values], axis=1)\n",
    "dataframe.columns = ['t-1', 't+1']\n",
    "print(dataframe.head(5))\n",
    "\n",
    "# split into train and test sets\n",
    "X = dataframe.values\n",
    "train_size = int(len(X) * 0.66)\n",
    "train, test = X[1:train_size], X[train_size:]\n",
    "train_X, train_y = train[:,0], train[:,1]\n",
    "test_X, test_y = test[:,0], test[:,1]\n",
    "\n",
    "# persistence model\n",
    "def model_persistence(x):\n",
    "\treturn x\n",
    "\n",
    "# walk-forward validation\n",
    "predictions = list()\n",
    "for x in test_X:\n",
    "\tyhat = model_persistence(x)\n",
    "\tpredictions.append(yhat)\n",
    "test_score = mean_squared_error(test_y, predictions)\n",
    "print('Test MSE: %.3f' % test_score)\n",
    "\n",
    "# plot predictions and expected results\n",
    "pyplot.plot(train_y)\n",
    "pyplot.plot([None for i in train_y] + [x for x in test_y])\n",
    "pyplot.plot([None for i in train_y] + [x for x in predictions])\n",
    "pyplot.xlabel(\"index\")\n",
    "pyplot.ylabel(\"sales\")\n",
    "pyplot.legend([\"train\",\"test\",\"predict\"])\n",
    "pyplot.title(\"baseline prediction\")\n",
    "pyplot.show()"
   ]
  },
  {
   "cell_type": "code",
   "execution_count": 38,
   "metadata": {
    "collapsed": false,
    "deletable": true,
    "editable": true,
    "run_control": {
     "frozen": false,
     "read_only": false
    }
   },
   "outputs": [
    {
     "data": {
      "image/png": "iVBORw0KGgoAAAANSUhEUgAAAXcAAAD8CAYAAACMwORRAAAABHNCSVQICAgIfAhkiAAAAAlwSFlz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\nA/T46jhIhLATAAAAAElFTkSuQmCC\n",
      "text/plain": [
       "<matplotlib.figure.Figure at 0x7f62be0a14e0>"
      ]
     },
     "metadata": {},
     "output_type": "display_data"
    },
    {
     "data": {
      "text/plain": [
       "[1, 2]"
      ]
     },
     "execution_count": 38,
     "metadata": {},
     "output_type": "execute_result"
    }
   ],
   "source": [
    "pyplot.plot([None for i in [1, 2]])\n",
    "pyplot.plot([i for i in [1, 2, None, 4,2]])\n",
    "pyplot.show()\n",
    "[i for i in [1, 2]]\n"
   ]
  }
 ],
 "metadata": {
  "kernelspec": {
   "display_name": "Python 3",
   "language": "python",
   "name": "python3"
  },
  "language_info": {
   "codemirror_mode": {
    "name": "ipython",
    "version": 3
   },
   "file_extension": ".py",
   "mimetype": "text/x-python",
   "name": "python",
   "nbconvert_exporter": "python",
   "pygments_lexer": "ipython3",
   "version": "3.6.3"
<<<<<<< HEAD
=======
  },
  "toc": {
   "colors": {
    "hover_highlight": "#DAA520",
    "running_highlight": "#FF0000",
    "selected_highlight": "#FFD700"
   },
   "moveMenuLeft": true,
   "nav_menu": {
    "height": "181px",
    "width": "252px"
   },
   "navigate_menu": true,
   "number_sections": true,
   "sideBar": true,
   "threshold": 4,
   "toc_cell": false,
   "toc_section_display": "block",
   "toc_window_display": false,
   "widenNotebook": false
>>>>>>> 18bf984b03f5d3c9f221eb0e288e2782b9369b35
  }
 },
 "nbformat": 4,
 "nbformat_minor": 2
}
