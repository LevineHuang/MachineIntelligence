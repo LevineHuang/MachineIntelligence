{
 "cells": [
  {
   "cell_type": "markdown",
   "metadata": {},
   "source": [
    "### baseline必要性\n",
    "通过与baseline对比，判断其他模型的效果如何，从而判断某个模型应该继续改进还是抛弃。\n",
    "\n",
    "The technique used to generate a forecast to calculate the baseline performance must be easy to implement and naive of problem-specific details.\n",
    "\n",
    "#### 建baseline之前，需develop a test harness：\n",
    "+ The dataset you intend to use to train and evaluate models.\n",
    "+ The resampling technique you intend to use to estimate the performance of the technique (e.g. train/test split).\n",
    "+ The performance measure you intend to use to evaluate forecasts (e.g. mean squared error).\n",
    "\n",
    "#### 一个好的baseline forecast技术的3个特点：\n",
    "+ Simple: A method that requires little or no training or intelligence.\n",
    "+ Fast: A method that is fast to implement and computationally trivial to make a prediction.\n",
    "+ Repeatable: A method that is deterministic, meaning that it produces an expected output given the same input.\n",
    "\n",
    "#### 监督及其学习最常用的baseline方法\n",
    "+ Zero Rule算法[http://machinelearningmastery.com/implement-baseline-machine-learning-algorithms-scratch-python/]\n",
    "\n",
    "\n",
    "\n"
   ]
  }
 ],
 "metadata": {
  "kernelspec": {
   "display_name": "Python 3",
   "language": "python",
   "name": "python3"
  },
  "language_info": {
   "codemirror_mode": {
    "name": "ipython",
    "version": 3
   },
   "file_extension": ".py",
   "mimetype": "text/x-python",
   "name": "python",
   "nbconvert_exporter": "python",
   "pygments_lexer": "ipython3",
   "version": "3.6.1"
  }
 },
 "nbformat": 4,
 "nbformat_minor": 2
}
