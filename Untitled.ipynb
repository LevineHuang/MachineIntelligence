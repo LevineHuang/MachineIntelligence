{
 "cells": [
  {
   "cell_type": "markdown",
   "metadata": {},
   "source": [
    "### Applying pandas qcut bins to new data"
   ]
  },
  {
   "cell_type": "code",
   "execution_count": 21,
   "metadata": {},
   "outputs": [],
   "source": [
    "import pandas as pd\n",
    "import numpy as np\n",
    "prng = np.random.RandomState(0)\n",
    "df = pd.DataFrame(prng.randn(100, 2), columns = [\"A\", \"B\"])"
   ]
  },
  {
   "cell_type": "code",
   "execution_count": 22,
   "metadata": {},
   "outputs": [],
   "source": [
    "col_c = ['a','b','c','d'] * 25"
   ]
  },
  {
   "cell_type": "code",
   "execution_count": 23,
   "metadata": {},
   "outputs": [],
   "source": [
    "df['C'] = col_c"
   ]
  },
  {
   "cell_type": "code",
   "execution_count": 24,
   "metadata": {},
   "outputs": [
    {
     "data": {
      "text/html": [
       "<div>\n",
       "<style scoped>\n",
       "    .dataframe tbody tr th:only-of-type {\n",
       "        vertical-align: middle;\n",
       "    }\n",
       "\n",
       "    .dataframe tbody tr th {\n",
       "        vertical-align: top;\n",
       "    }\n",
       "\n",
       "    .dataframe thead th {\n",
       "        text-align: right;\n",
       "    }\n",
       "</style>\n",
       "<table border=\"1\" class=\"dataframe\">\n",
       "  <thead>\n",
       "    <tr style=\"text-align: right;\">\n",
       "      <th></th>\n",
       "      <th>A</th>\n",
       "      <th>B</th>\n",
       "      <th>C</th>\n",
       "    </tr>\n",
       "  </thead>\n",
       "  <tbody>\n",
       "    <tr>\n",
       "      <th>0</th>\n",
       "      <td>1.764052</td>\n",
       "      <td>0.400157</td>\n",
       "      <td>a</td>\n",
       "    </tr>\n",
       "    <tr>\n",
       "      <th>1</th>\n",
       "      <td>0.978738</td>\n",
       "      <td>2.240893</td>\n",
       "      <td>b</td>\n",
       "    </tr>\n",
       "    <tr>\n",
       "      <th>2</th>\n",
       "      <td>1.867558</td>\n",
       "      <td>-0.977278</td>\n",
       "      <td>c</td>\n",
       "    </tr>\n",
       "    <tr>\n",
       "      <th>3</th>\n",
       "      <td>0.950088</td>\n",
       "      <td>-0.151357</td>\n",
       "      <td>d</td>\n",
       "    </tr>\n",
       "    <tr>\n",
       "      <th>4</th>\n",
       "      <td>-0.103219</td>\n",
       "      <td>0.410599</td>\n",
       "      <td>a</td>\n",
       "    </tr>\n",
       "  </tbody>\n",
       "</table>\n",
       "</div>"
      ],
      "text/plain": [
       "          A         B  C\n",
       "0  1.764052  0.400157  a\n",
       "1  0.978738  2.240893  b\n",
       "2  1.867558 -0.977278  c\n",
       "3  0.950088 -0.151357  d\n",
       "4 -0.103219  0.410599  a"
      ]
     },
     "execution_count": 24,
     "metadata": {},
     "output_type": "execute_result"
    }
   ],
   "source": [
    "df.head()"
   ]
  },
  {
   "cell_type": "code",
   "execution_count": 28,
   "metadata": {},
   "outputs": [
    {
     "name": "stdout",
     "output_type": "stream",
     "text": [
      "<pandas.core.groupby.groupby.SeriesGroupBy object at 0x0000000008A83CF8>\n",
      "<pandas.core.groupby.groupby.SeriesGroupBy object at 0x00000000087CF208>\n"
     ]
    }
   ],
   "source": [
    "grp = df.groupby(by='C')\n",
    "for col in ['A','B']:\n",
    "    print(grp[col])\n",
    "    "
   ]
  },
  {
   "cell_type": "code",
   "execution_count": 87,
   "metadata": {},
   "outputs": [
    {
     "name": "stdout",
     "output_type": "stream",
     "text": [
      "a\n",
      "           A         B  C\n",
      "0   1.764052  0.400157  a\n",
      "4  -0.103219  0.410599  a\n",
      "8   1.494079 -0.205158  a\n",
      "12  2.269755 -1.454366  a\n",
      "16 -0.887786 -1.980796  a\n",
      "20 -1.048553 -1.420018  a\n",
      "24 -1.613898 -0.212740  a\n",
      "28  0.066517  0.302472  a\n",
      "32  0.177426 -0.401781  a\n",
      "36  1.139401 -1.234826  a\n",
      "40 -1.165150  0.900826  a\n",
      "44 -1.070753  1.054452  a\n",
      "48  0.010500  1.785870  a\n",
      "52 -1.173123  1.943621  a\n",
      "56 -0.861226  1.910065  a\n",
      "60  0.376426 -1.099401  a\n",
      "64  0.672295  0.407462  a\n",
      "68  0.576591 -0.208299  a\n",
      "72  2.383145  0.944479  a\n",
      "76 -0.744755 -0.826439  a\n",
      "80 -0.498032  1.929532  a\n",
      "84  1.188030  0.316943  a\n",
      "88 -0.803410 -0.689550  a\n",
      "92  0.625231 -1.602058  a\n",
      "96 -0.039283 -1.168093  a\n",
      "           A         B  C B_box\n",
      "0   1.764052  0.400157  a     3\n",
      "4  -0.103219  0.410599  a     3\n",
      "8   1.494079 -0.205158  a     2\n",
      "12  2.269755 -1.454366  a     0\n",
      "16 -0.887786 -1.980796  a     0\n",
      "20 -1.048553 -1.420018  a     0\n",
      "24 -1.613898 -0.212740  a     2\n",
      "28  0.066517  0.302472  a     2\n",
      "32  0.177426 -0.401781  a     1\n",
      "36  1.139401 -1.234826  a     0\n",
      "40 -1.165150  0.900826  a     3\n",
      "44 -1.070753  1.054452  a     4\n",
      "48  0.010500  1.785870  a     4\n",
      "52 -1.173123  1.943621  a     4\n",
      "56 -0.861226  1.910065  a     4\n",
      "60  0.376426 -1.099401  a     1\n",
      "64  0.672295  0.407462  a     3\n",
      "68  0.576591 -0.208299  a     2\n",
      "72  2.383145  0.944479  a     3\n",
      "76 -0.744755 -0.826439  a     1\n",
      "80 -0.498032  1.929532  a     4\n",
      "84  1.188030  0.316943  a     2\n",
      "88 -0.803410 -0.689550  a     1\n",
      "92  0.625231 -1.602058  a     0\n",
      "96 -0.039283 -1.168093  a     1\n",
      "b\n",
      "           A         B  C\n",
      "1   0.978738  2.240893  b\n",
      "5   0.144044  1.454274  b\n",
      "9   0.313068 -0.854096  b\n",
      "13  0.045759 -0.187184  b\n",
      "17 -0.347912  0.156349  b\n",
      "21 -1.706270  1.950775  b\n",
      "25 -0.895467  0.386902  b\n",
      "29 -0.634322 -0.362741  b\n",
      "33 -1.630198  0.462782  b\n",
      "37  0.402342 -0.684810  b\n",
      "41  0.465662 -1.536244  b\n",
      "45 -0.403177  1.222445  b\n",
      "49  0.126912  0.401989  b\n",
      "53 -0.413619 -0.747455  b\n",
      "57 -0.268003  0.802456  b\n",
      "61  0.298238  1.326386  b\n",
      "65 -0.769916  0.539249  b\n",
      "69  0.396007 -1.093062  b\n",
      "73 -0.912822  1.117016  b\n",
      "77 -0.098453 -0.663478  b\n",
      "81  0.949421  0.087551  b\n",
      "85  0.920859  0.318728  b\n",
      "89 -0.455533  0.017479  b\n",
      "93 -1.104383  0.052165  b\n",
      "97  0.523277 -0.171546  b\n",
      "           A         B  C B_box\n",
      "1   0.978738  2.240893  b     4\n",
      "5   0.144044  1.454274  b     4\n",
      "9   0.313068 -0.854096  b     0\n",
      "13  0.045759 -0.187184  b     1\n",
      "17 -0.347912  0.156349  b     2\n",
      "21 -1.706270  1.950775  b     4\n",
      "25 -0.895467  0.386902  b     2\n",
      "29 -0.634322 -0.362741  b     1\n",
      "33 -1.630198  0.462782  b     3\n",
      "37  0.402342 -0.684810  b     0\n",
      "41  0.465662 -1.536244  b     0\n",
      "45 -0.403177  1.222445  b     4\n",
      "49  0.126912  0.401989  b     3\n",
      "53 -0.413619 -0.747455  b     0\n",
      "57 -0.268003  0.802456  b     3\n",
      "61  0.298238  1.326386  b     4\n",
      "65 -0.769916  0.539249  b     3\n",
      "69  0.396007 -1.093062  b     0\n",
      "73 -0.912822  1.117016  b     3\n",
      "77 -0.098453 -0.663478  b     1\n",
      "81  0.949421  0.087551  b     2\n",
      "85  0.920859  0.318728  b     2\n",
      "89 -0.455533  0.017479  b     1\n",
      "93 -1.104383  0.052165  b     2\n",
      "97  0.523277 -0.171546  b     1\n",
      "c\n",
      "           A         B  C\n",
      "2   1.867558 -0.977278  c\n",
      "6   0.761038  0.121675  c\n",
      "10 -2.552990  0.653619  c\n",
      "14  1.532779  1.469359  c\n",
      "18  1.230291  1.202380  c\n",
      "22 -0.509652 -0.438074  c\n",
      "26 -0.510805 -1.180632  c\n",
      "30 -0.672460 -0.359553  c\n",
      "34 -0.907298  0.051945  c\n",
      "38 -0.870797 -0.578850  c\n",
      "42  1.488252  1.895889  c\n",
      "46  0.208275  0.976639  c\n",
      "50  1.883151 -1.347759  c\n",
      "54  1.922942  1.480515  c\n",
      "58  0.947252 -0.155010  c\n",
      "62 -0.694568 -0.149635  c\n",
      "66 -0.674333  0.031831  c\n",
      "70 -1.491258  0.439392  c\n",
      "74 -1.315907 -0.461585  c\n",
      "78  1.126636 -1.079932  c\n",
      "82 -1.225436  0.844363  c\n",
      "86  0.856831 -0.651026  c\n",
      "90 -0.353994 -1.374951  c\n",
      "94 -0.739563  1.543015  c\n",
      "98  0.771791  0.823504  c\n",
      "           A         B  C B_box\n",
      "2   1.867558 -0.977278  c     0\n",
      "6   0.761038  0.121675  c     2\n",
      "10 -2.552990  0.653619  c     3\n",
      "14  1.532779  1.469359  c     4\n",
      "18  1.230291  1.202380  c     4\n",
      "22 -0.509652 -0.438074  c     1\n",
      "26 -0.510805 -1.180632  c     0\n",
      "30 -0.672460 -0.359553  c     1\n",
      "34 -0.907298  0.051945  c     2\n",
      "38 -0.870797 -0.578850  c     1\n",
      "42  1.488252  1.895889  c     4\n",
      "46  0.208275  0.976639  c     3\n",
      "50  1.883151 -1.347759  c     0\n",
      "54  1.922942  1.480515  c     4\n",
      "58  0.947252 -0.155010  c     2\n",
      "62 -0.694568 -0.149635  c     2\n",
      "66 -0.674333  0.031831  c     2\n",
      "70 -1.491258  0.439392  c     3\n",
      "74 -1.315907 -0.461585  c     1\n",
      "78  1.126636 -1.079932  c     0\n",
      "82 -1.225436  0.844363  c     3\n",
      "86  0.856831 -0.651026  c     1\n",
      "90 -0.353994 -1.374951  c     0\n",
      "94 -0.739563  1.543015  c     4\n",
      "98  0.771791  0.823504  c     3\n",
      "d\n",
      "           A         B  C\n",
      "3   0.950088 -0.151357  d\n",
      "7   0.443863  0.333674  d\n",
      "11  0.864436 -0.742165  d\n",
      "15  0.154947  0.378163  d\n",
      "19 -0.387327 -0.302303  d\n",
      "23 -1.252795  0.777490  d\n",
      "27 -0.028182  0.428332  d\n",
      "31 -0.813146 -1.726283  d\n",
      "35  0.729091  0.128983  d\n",
      "39 -0.311553  0.056165  d\n",
      "43  1.178780 -0.179925  d\n",
      "47  0.356366  0.706573  d\n",
      "51 -1.270485  0.969397  d\n",
      "55  1.867559  0.906045  d\n",
      "59  0.614079  0.922207  d\n",
      "63 -0.435154  1.849264  d\n",
      "67 -0.635846  0.676433  d\n",
      "71  0.166673  0.635031  d\n",
      "75 -0.068242  1.713343  d\n",
      "79 -1.147469 -0.437820  d\n",
      "83 -1.000215 -1.544771  d\n",
      "87 -1.034243  0.681595  d\n",
      "91 -0.643618 -2.223403  d\n",
      "95 -1.292857  0.267051  d\n",
      "99  2.163236  1.336528  d\n",
      "           A         B  C B_box\n",
      "3   0.950088 -0.151357  d     1\n",
      "7   0.443863  0.333674  d     2\n",
      "11  0.864436 -0.742165  d     0\n",
      "15  0.154947  0.378163  d     2\n",
      "19 -0.387327 -0.302303  d     1\n",
      "23 -1.252795  0.777490  d     3\n",
      "27 -0.028182  0.428332  d     2\n",
      "31 -0.813146 -1.726283  d     0\n",
      "35  0.729091  0.128983  d     1\n",
      "39 -0.311553  0.056165  d     1\n",
      "43  1.178780 -0.179925  d     1\n",
      "47  0.356366  0.706573  d     3\n",
      "51 -1.270485  0.969397  d     4\n",
      "55  1.867559  0.906045  d     3\n",
      "59  0.614079  0.922207  d     4\n",
      "63 -0.435154  1.849264  d     4\n",
      "67 -0.635846  0.676433  d     3\n",
      "71  0.166673  0.635031  d     2\n",
      "75 -0.068242  1.713343  d     4\n",
      "79 -1.147469 -0.437820  d     0\n",
      "83 -1.000215 -1.544771  d     0\n",
      "87 -1.034243  0.681595  d     3\n",
      "91 -0.643618 -2.223403  d     0\n",
      "95 -1.292857  0.267051  d     2\n",
      "99  2.163236  1.336528  d     4\n"
     ]
    },
    {
     "name": "stderr",
     "output_type": "stream",
     "text": [
      "C:\\Users\\huanglvjun\\AppData\\Local\\Continuum\\anaconda3\\lib\\site-packages\\ipykernel_launcher.py:9: SettingWithCopyWarning: \n",
      "A value is trying to be set on a copy of a slice from a DataFrame.\n",
      "Try using .loc[row_indexer,col_indexer] = value instead\n",
      "\n",
      "See the caveats in the documentation: http://pandas.pydata.org/pandas-docs/stable/indexing.html#indexing-view-versus-copy\n",
      "  if __name__ == '__main__':\n"
     ]
    }
   ],
   "source": [
    "bins_dict = {}\n",
    "for group, subset in grp:\n",
    "    print(group)\n",
    "    print(subset)\n",
    "\n",
    "    for col in ['B']:\n",
    "        ser, bins = pd.qcut(subset[col], 5, retbins=True, labels=range(5))\n",
    "        col_box = col + '_box'\n",
    "        subset[col_box] = ser\n",
    "        key = group + '_' + col\n",
    "        bins_dict[key] = bins\n",
    "    print(subset)\n",
    "        "
   ]
  },
  {
   "cell_type": "code",
   "execution_count": 44,
   "metadata": {},
   "outputs": [
    {
     "data": {
      "text/plain": [
       "{'a_A': array([-1.61389785, -0.91993919, -0.26114429,  0.2570259 ,  1.14912651,\n",
       "         2.38314477]),\n",
       " 'a_B': array([-1.98079647, -1.18143996, -0.28835654,  0.35022845,  0.96647393,\n",
       "         1.94362119]),\n",
       " 'b_A': array([-1.70627019, -0.79502617, -0.37001807,  0.13376468,  0.4150058 ,\n",
       "         0.97873798]),\n",
       " 'b_B': array([-1.53624369, -0.66774465,  0.03829071,  0.39293724,  1.13810204,\n",
       "         2.2408932 ]),\n",
       " 'c_A': array([-2.55298982, -0.87809739, -0.57546726,  0.76533886,  1.28188298,\n",
       "         1.92294203]),\n",
       " 'c_B': array([-1.37495129, -0.71627605, -0.23682732,  0.24876169,  1.0217872 ,\n",
       "         1.89588918]),\n",
       " 'd_A': array([-1.29285691, -1.00702085, -0.40645751,  0.15963785,  0.75615969,\n",
       "         2.16323595]),\n",
       " 'd_B': array([-2.22340315, -0.32940621,  0.21182369,  0.65159218,  0.90927706,\n",
       "         1.84926373])}"
      ]
     },
     "execution_count": 44,
     "metadata": {},
     "output_type": "execute_result"
    }
   ],
   "source": [
    "bins_dict"
   ]
  },
  {
   "cell_type": "code",
   "execution_count": 49,
   "metadata": {},
   "outputs": [],
   "source": [
    "import pickle\n",
    "def save_obj(obj, name ):\n",
    "    with open(name + '.pkl', 'wb') as f:\n",
    "        pickle.dump(obj, f, pickle.HIGHEST_PROTOCOL)\n",
    "\n",
    "def load_obj(name ):\n",
    "    with open(name + '.pkl', 'rb') as f:\n",
    "        return pickle.load(f)"
   ]
  },
  {
   "cell_type": "code",
   "execution_count": 50,
   "metadata": {},
   "outputs": [],
   "source": [
    "save_obj(bins_dict, 'bins_dict')"
   ]
  },
  {
   "cell_type": "code",
   "execution_count": 52,
   "metadata": {
    "scrolled": false
   },
   "outputs": [
    {
     "data": {
      "text/plain": [
       "{'a_A': array([-1.61389785, -0.91993919, -0.26114429,  0.2570259 ,  1.14912651,\n",
       "         2.38314477]),\n",
       " 'a_B': array([-1.98079647, -1.18143996, -0.28835654,  0.35022845,  0.96647393,\n",
       "         1.94362119]),\n",
       " 'b_A': array([-1.70627019, -0.79502617, -0.37001807,  0.13376468,  0.4150058 ,\n",
       "         0.97873798]),\n",
       " 'b_B': array([-1.53624369, -0.66774465,  0.03829071,  0.39293724,  1.13810204,\n",
       "         2.2408932 ]),\n",
       " 'c_A': array([-2.55298982, -0.87809739, -0.57546726,  0.76533886,  1.28188298,\n",
       "         1.92294203]),\n",
       " 'c_B': array([-1.37495129, -0.71627605, -0.23682732,  0.24876169,  1.0217872 ,\n",
       "         1.89588918]),\n",
       " 'd_A': array([-1.29285691, -1.00702085, -0.40645751,  0.15963785,  0.75615969,\n",
       "         2.16323595]),\n",
       " 'd_B': array([-2.22340315, -0.32940621,  0.21182369,  0.65159218,  0.90927706,\n",
       "         1.84926373])}"
      ]
     },
     "execution_count": 52,
     "metadata": {},
     "output_type": "execute_result"
    }
   ],
   "source": [
    "load_obj('bins_dict')"
   ]
  },
  {
   "cell_type": "code",
   "execution_count": 54,
   "metadata": {
    "scrolled": true
   },
   "outputs": [
    {
     "data": {
      "text/plain": [
       "array([-1.61389785, -0.91993919, -0.26114429,  0.2570259 ,  1.14912651,\n",
       "        2.38314477])"
      ]
     },
     "execution_count": 54,
     "metadata": {},
     "output_type": "execute_result"
    }
   ],
   "source": [
    "bins_dict.get('a_A')"
   ]
  },
  {
   "cell_type": "code",
   "execution_count": 63,
   "metadata": {},
   "outputs": [
    {
     "name": "stderr",
     "output_type": "stream",
     "text": [
      "C:\\Users\\huanglvjun\\AppData\\Local\\Continuum\\anaconda3\\lib\\site-packages\\ipykernel_launcher.py:9: SettingWithCopyWarning: \n",
      "A value is trying to be set on a copy of a slice from a DataFrame.\n",
      "Try using .loc[row_indexer,col_indexer] = value instead\n",
      "\n",
      "See the caveats in the documentation: http://pandas.pydata.org/pandas-docs/stable/indexing.html#indexing-view-versus-copy\n",
      "  if __name__ == '__main__':\n"
     ]
    }
   ],
   "source": [
    "bins_dict = {}\n",
    "res = []\n",
    "for group, subset in grp:\n",
    "    for col in ['A','B']:\n",
    "        col_box = col + '_box'\n",
    "        key = group + '_' + col\n",
    "        bins = bins_dict.get(key)\n",
    "        ser, bins = pd.qcut(subset[col], 5, retbins=True, labels=range(5))        \n",
    "        subset[col_box] = pd.cut(subset[col], bins=bins, labels=False, include_lowest=True)\n",
    "    res.append(subset)"
   ]
  },
  {
   "cell_type": "code",
   "execution_count": 64,
   "metadata": {},
   "outputs": [],
   "source": [
    "r = pd.concat(res, axis=0)"
   ]
  },
  {
   "cell_type": "code",
   "execution_count": 65,
   "metadata": {
    "scrolled": true
   },
   "outputs": [
    {
     "data": {
      "text/html": [
       "<div>\n",
       "<style scoped>\n",
       "    .dataframe tbody tr th:only-of-type {\n",
       "        vertical-align: middle;\n",
       "    }\n",
       "\n",
       "    .dataframe tbody tr th {\n",
       "        vertical-align: top;\n",
       "    }\n",
       "\n",
       "    .dataframe thead th {\n",
       "        text-align: right;\n",
       "    }\n",
       "</style>\n",
       "<table border=\"1\" class=\"dataframe\">\n",
       "  <thead>\n",
       "    <tr style=\"text-align: right;\">\n",
       "      <th></th>\n",
       "      <th>A</th>\n",
       "      <th>B</th>\n",
       "      <th>C</th>\n",
       "      <th>A_box</th>\n",
       "      <th>B_box</th>\n",
       "    </tr>\n",
       "  </thead>\n",
       "  <tbody>\n",
       "    <tr>\n",
       "      <th>0</th>\n",
       "      <td>1.764052</td>\n",
       "      <td>0.400157</td>\n",
       "      <td>a</td>\n",
       "      <td>4</td>\n",
       "      <td>3</td>\n",
       "    </tr>\n",
       "    <tr>\n",
       "      <th>4</th>\n",
       "      <td>-0.103219</td>\n",
       "      <td>0.410599</td>\n",
       "      <td>a</td>\n",
       "      <td>2</td>\n",
       "      <td>3</td>\n",
       "    </tr>\n",
       "    <tr>\n",
       "      <th>8</th>\n",
       "      <td>1.494079</td>\n",
       "      <td>-0.205158</td>\n",
       "      <td>a</td>\n",
       "      <td>4</td>\n",
       "      <td>2</td>\n",
       "    </tr>\n",
       "    <tr>\n",
       "      <th>12</th>\n",
       "      <td>2.269755</td>\n",
       "      <td>-1.454366</td>\n",
       "      <td>a</td>\n",
       "      <td>4</td>\n",
       "      <td>0</td>\n",
       "    </tr>\n",
       "    <tr>\n",
       "      <th>16</th>\n",
       "      <td>-0.887786</td>\n",
       "      <td>-1.980796</td>\n",
       "      <td>a</td>\n",
       "      <td>1</td>\n",
       "      <td>0</td>\n",
       "    </tr>\n",
       "  </tbody>\n",
       "</table>\n",
       "</div>"
      ],
      "text/plain": [
       "           A         B  C  A_box  B_box\n",
       "0   1.764052  0.400157  a      4      3\n",
       "4  -0.103219  0.410599  a      2      3\n",
       "8   1.494079 -0.205158  a      4      2\n",
       "12  2.269755 -1.454366  a      4      0\n",
       "16 -0.887786 -1.980796  a      1      0"
      ]
     },
     "execution_count": 65,
     "metadata": {},
     "output_type": "execute_result"
    }
   ],
   "source": [
    "r.head()"
   ]
  },
  {
   "cell_type": "markdown",
   "metadata": {},
   "source": [
    "### apply LabelEncoder to new data"
   ]
  },
  {
   "cell_type": "code",
   "execution_count": 69,
   "metadata": {},
   "outputs": [],
   "source": [
    "df = pd.DataFrame([['a','a','b','c','d','d'],['cat','cat','cat','bird','bird','dog']]).T\n",
    "df.columns = ['type','name']"
   ]
  },
  {
   "cell_type": "code",
   "execution_count": 73,
   "metadata": {},
   "outputs": [],
   "source": [
    "from sklearn.preprocessing import LabelEncoder"
   ]
  },
  {
   "cell_type": "code",
   "execution_count": 77,
   "metadata": {},
   "outputs": [],
   "source": [
    "le_dict = {}\n",
    "for col in ['type','name']:\n",
    "    col_en = col + '_en'\n",
    "    le = LabelEncoder()\n",
    "    le.fit(df[col])\n",
    "    df[col_en] = le.transform(df[col])\n",
    "    le_dict[col] = le\n",
    "    "
   ]
  },
  {
   "cell_type": "code",
   "execution_count": 81,
   "metadata": {},
   "outputs": [
    {
     "data": {
      "text/plain": [
       "array([0, 0, 1, 2, 3, 3], dtype=int64)"
      ]
     },
     "execution_count": 81,
     "metadata": {},
     "output_type": "execute_result"
    }
   ],
   "source": [
    "le_dict.get('type').transform(df['type'])"
   ]
  },
  {
   "cell_type": "code",
   "execution_count": 82,
   "metadata": {},
   "outputs": [],
   "source": [
    "save_obj(obj=le_dict, name='le_dict')"
   ]
  },
  {
   "cell_type": "code",
   "execution_count": 83,
   "metadata": {},
   "outputs": [],
   "source": [
    "le_dict1 = load_obj(name='le_dict')"
   ]
  },
  {
   "cell_type": "code",
   "execution_count": 84,
   "metadata": {},
   "outputs": [
    {
     "data": {
      "text/plain": [
       "array([0, 0, 1, 2, 3, 3], dtype=int64)"
      ]
     },
     "execution_count": 84,
     "metadata": {},
     "output_type": "execute_result"
    }
   ],
   "source": [
    "le_dict1.get('type').transform(df['type'])"
   ]
  },
  {
   "cell_type": "code",
   "execution_count": 85,
   "metadata": {},
   "outputs": [
    {
     "data": {
      "text/html": [
       "<div>\n",
       "<style scoped>\n",
       "    .dataframe tbody tr th:only-of-type {\n",
       "        vertical-align: middle;\n",
       "    }\n",
       "\n",
       "    .dataframe tbody tr th {\n",
       "        vertical-align: top;\n",
       "    }\n",
       "\n",
       "    .dataframe thead th {\n",
       "        text-align: right;\n",
       "    }\n",
       "</style>\n",
       "<table border=\"1\" class=\"dataframe\">\n",
       "  <thead>\n",
       "    <tr style=\"text-align: right;\">\n",
       "      <th></th>\n",
       "      <th>type</th>\n",
       "      <th>name</th>\n",
       "      <th>type_en</th>\n",
       "      <th>name_en</th>\n",
       "    </tr>\n",
       "  </thead>\n",
       "  <tbody>\n",
       "    <tr>\n",
       "      <th>0</th>\n",
       "      <td>a</td>\n",
       "      <td>cat</td>\n",
       "      <td>0</td>\n",
       "      <td>1</td>\n",
       "    </tr>\n",
       "    <tr>\n",
       "      <th>1</th>\n",
       "      <td>a</td>\n",
       "      <td>cat</td>\n",
       "      <td>0</td>\n",
       "      <td>1</td>\n",
       "    </tr>\n",
       "    <tr>\n",
       "      <th>2</th>\n",
       "      <td>b</td>\n",
       "      <td>cat</td>\n",
       "      <td>1</td>\n",
       "      <td>1</td>\n",
       "    </tr>\n",
       "    <tr>\n",
       "      <th>3</th>\n",
       "      <td>c</td>\n",
       "      <td>bird</td>\n",
       "      <td>2</td>\n",
       "      <td>0</td>\n",
       "    </tr>\n",
       "    <tr>\n",
       "      <th>4</th>\n",
       "      <td>d</td>\n",
       "      <td>bird</td>\n",
       "      <td>3</td>\n",
       "      <td>0</td>\n",
       "    </tr>\n",
       "    <tr>\n",
       "      <th>5</th>\n",
       "      <td>d</td>\n",
       "      <td>dog</td>\n",
       "      <td>3</td>\n",
       "      <td>2</td>\n",
       "    </tr>\n",
       "  </tbody>\n",
       "</table>\n",
       "</div>"
      ],
      "text/plain": [
       "  type  name  type_en  name_en\n",
       "0    a   cat        0        1\n",
       "1    a   cat        0        1\n",
       "2    b   cat        1        1\n",
       "3    c  bird        2        0\n",
       "4    d  bird        3        0\n",
       "5    d   dog        3        2"
      ]
     },
     "execution_count": 85,
     "metadata": {},
     "output_type": "execute_result"
    }
   ],
   "source": [
    "df"
   ]
  },
  {
   "cell_type": "markdown",
   "metadata": {},
   "source": [
    "### model_selection"
   ]
  },
  {
   "cell_type": "code",
   "execution_count": 2,
   "metadata": {
    "ExecuteTime": {
     "end_time": "2017-10-18T14:44:20.007681Z",
     "start_time": "2017-10-18T14:44:19.975539Z"
    },
    "run_control": {
     "frozen": false,
     "read_only": false
    }
   },
   "outputs": [
    {
     "name": "stdout",
     "output_type": "stream",
     "text": [
      "[2 3] [0 1]\n",
      "[1 3] [0 2]\n",
      "[1 2] [0 3]\n",
      "[0 3] [1 2]\n",
      "[0 2] [1 3]\n",
      "[0 1] [2 3]\n"
     ]
    }
   ],
   "source": [
    "import numpy as np\n",
    "\n",
    "from sklearn.model_selection import LeavePOut\n",
    "\n",
    "X = np.ones(4)\n",
    "lpo = LeavePOut(p=2)\n",
    "\n",
    "for train, test in lpo.split(X):\n",
    "    print(\"%s %s\" % (train, test))"
   ]
  },
  {
   "cell_type": "code",
   "execution_count": 6,
   "metadata": {
    "ExecuteTime": {
     "end_time": "2017-10-18T14:45:43.723340Z",
     "start_time": "2017-10-18T14:45:43.697858Z"
    }
   },
   "outputs": [
    {
     "data": {
      "text/plain": [
       "array([ 1.,  1.,  1.,  1.])"
      ]
     },
     "execution_count": 6,
     "metadata": {},
     "output_type": "execute_result"
    }
   ],
   "source": [
    "X = np.ones(4)\n",
    "X"
   ]
  }
 ],
 "metadata": {
  "kernelspec": {
   "display_name": "Python 3",
   "language": "python",
   "name": "python3"
  },
  "language_info": {
   "codemirror_mode": {
    "name": "ipython",
    "version": 3
   },
   "file_extension": ".py",
   "mimetype": "text/x-python",
   "name": "python",
   "nbconvert_exporter": "python",
   "pygments_lexer": "ipython3",
   "version": "3.6.6"
  }
 },
 "nbformat": 4,
 "nbformat_minor": 2
}
