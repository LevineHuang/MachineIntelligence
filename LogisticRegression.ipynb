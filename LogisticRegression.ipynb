{
 "cells": [
  {
   "cell_type": "markdown",
   "metadata": {
    "deletable": true,
    "editable": true,
    "run_control": {
     "frozen": false,
     "read_only": false
    }
   },
   "source": [
    "## 逻辑回归的损失函数\n",
    "$$\n",
    "J(\\theta) = -Y\\bullet logh_{\\theta}(X) - (E-Y)\\bullet log(E-h_{\\theta}(X))  \n",
    "$$\n",
    "$$\n",
    "J(\\theta) = -Y\\bullet logh_{\\theta}(X) - (E-Y)\\bullet log(1-h_{\\theta}(X)) + \\alpha||\\theta||_1  \n",
    "$$\n",
    "$$\n",
    "J(\\theta) = -Y\\bullet logh_{\\theta}(X) - (E-Y)\\bullet log(1-h_{\\theta}(X)) + \\frac{1}{2}\\alpha||\\theta||_2^2  \n",
    "$$  \n",
    "注意：sklearn中，正则化系数在`损失项`上，而不是`正则项`上。因此，系数越小，对参数的约束能力越大。\n",
    "\n",
    "$$\n",
    "\\min_{w,c}\\frac{1}{2}w^Tw + C\\sum_{i=1}^{n}log(exp(-y_i(X_i^Tw + c)) + 1)\n",
    "$$"
   ]
  },
  {
   "cell_type": "markdown",
   "metadata": {
    "deletable": true,
    "editable": true,
    "run_control": {
     "frozen": false,
     "read_only": false
    }
   },
   "source": [
    "## Logistic回归中的L1正则化和Sparsity(系数稀疏性)\n",
    "\n",
    "[digits数据集介绍](http://archive.ics.uci.edu/ml/datasets/Optical+Recognition+of+Handwritten+Digits)  \n",
    "\n",
    "We used preprocessing programs made available by NIST to extract normalized bitmaps of handwritten digits from a preprinted form. From a total of 43 people, 30 contributed to the training set and different 13 to the test set. 32x32 bitmaps are divided into nonoverlapping blocks of 4x4 and the number of on pixels are counted in each block. This generates an input matrix of 8x8 where each element is an integer in the range 0..16. This reduces dimensionality and gives invariance to small distortions. "
   ]
  },
  {
   "cell_type": "code",
   "execution_count": 17,
   "metadata": {
    "ExecuteTime": {
     "end_time": "2017-10-11T14:26:56.841435Z",
     "start_time": "2017-10-11T14:26:52.744464Z"
    },
    "collapsed": true,
    "deletable": true,
    "editable": true,
    "run_control": {
     "frozen": false,
     "read_only": false
    }
   },
   "outputs": [],
   "source": [
    "import numpy as np\n",
    "import matplotlib.pyplot as plt\n",
    "\n",
    "from sklearn.linear_model import LogisticRegression\n",
    "from sklearn import datasets\n",
    "from sklearn.preprocessing import StandardScaler\n"
   ]
  },
  {
   "cell_type": "markdown",
   "metadata": {
    "deletable": true,
    "editable": true,
    "run_control": {
     "frozen": false,
     "read_only": false
    }
   },
   "source": [
    "了解数据基本情况"
   ]
  },
  {
   "cell_type": "code",
   "execution_count": 18,
   "metadata": {
    "ExecuteTime": {
     "end_time": "2017-10-11T14:27:00.376377Z",
     "start_time": "2017-10-11T14:26:58.918318Z"
    },
    "collapsed": false,
    "deletable": true,
    "editable": true,
    "run_control": {
     "frozen": false,
     "read_only": false
    }
   },
   "outputs": [
    {
     "name": "stdout",
     "output_type": "stream",
     "text": [
      "(1797, 64)\n"
     ]
    },
    {
     "data": {
      "image/png": "[encoded data removed]",
      "text/plain": [
       "<matplotlib.figure.Figure at 0x7fdc4104db00>"
      ]
     },
     "metadata": {},
     "output_type": "display_data"
    },
    {
     "data": {
      "image/png": "[encoded data removed]",
      "text/plain": [
       "<matplotlib.figure.Figure at 0x7fdc40bce320>"
      ]
     },
     "metadata": {},
     "output_type": "display_data"
    }
   ],
   "source": [
    "digits = datasets.load_digits()\n",
    "print(digits.data.shape)\n",
    "\n",
    "\n",
    "plt.matshow(digits.images[1])\n",
    "plt.show()\n",
    "plt.close()\n",
    "# plt.gray()\n",
    "plt.matshow(digits.images[0])\n",
    "plt.show()\n"
   ]
  },
  {
   "cell_type": "code",
   "execution_count": 19,
   "metadata": {
    "ExecuteTime": {
     "end_time": "2017-10-11T14:27:02.299932Z",
     "start_time": "2017-10-11T14:27:02.218471Z"
    },
    "collapsed": false,
    "deletable": true,
    "editable": true,
    "run_control": {
     "frozen": false,
     "read_only": false
    }
   },
   "outputs": [
    {
     "name": "stdout",
     "output_type": "stream",
     "text": [
      "(64,)\n"
     ]
    },
    {
     "data": {
      "text/plain": [
       "array([0, 0, 0, ..., 1, 1, 1])"
      ]
     },
     "execution_count": 19,
     "metadata": {},
     "output_type": "execute_result"
    }
   ],
   "source": [
    "X,y = digits.data,digits.target\n",
    "print(X[0].shape)\n",
    "X = StandardScaler().fit_transform(X)\n",
    "y = (y > 4).astype(np.int)\n",
    "y"
   ]
  },
  {
   "cell_type": "code",
   "execution_count": 20,
   "metadata": {
    "ExecuteTime": {
     "end_time": "2017-10-11T14:27:04.954179Z",
     "start_time": "2017-10-11T14:27:04.686125Z"
    },
    "collapsed": false,
    "deletable": true,
    "editable": true,
    "run_control": {
     "frozen": false,
     "read_only": false
    }
   },
   "outputs": [],
   "source": [
    "C = 1\n",
    "# turn down tolerance for short training time\n",
    "clf_l1_LR = LogisticRegression(C=C, penalty='l1', tol=0.01)\n",
    "clf_l2_LR = LogisticRegression(C=C, penalty='l2', tol=0.01)\n",
    "clf_l1_LR.fit(X, y)\n",
    "clf_l2_LR.fit(X, y)\n",
    "\n",
    "coef_l1_LR = clf_l1_LR.coef_.ravel()\n",
    "coef_l2_LR = clf_l2_LR.coef_.ravel()"
   ]
  },
  {
   "cell_type": "code",
   "execution_count": 21,
   "metadata": {
    "ExecuteTime": {
     "end_time": "2017-10-11T14:27:07.971450Z",
     "start_time": "2017-10-11T14:27:07.896795Z"
    },
    "collapsed": false,
    "deletable": true,
    "editable": true,
    "run_control": {
     "frozen": false,
     "read_only": false
    }
   },
   "outputs": [
    {
     "name": "stdout",
     "output_type": "stream",
     "text": [
      "(64,)\n"
     ]
    },
    {
     "data": {
      "text/plain": [
       "array([ 0.        ,  0.15922457,  0.144787  , -0.0236982 ,  0.30768009,\n",
       "        0.53262565,  0.42577406,  0.19358979,  0.17847862, -0.55278146,\n",
       "        0.63452813,  0.2997543 , -0.15822413, -0.32206127,  0.07290101,\n",
       "        0.08972369, -0.04640319,  0.29977995,  0.82293178, -0.10229367,\n",
       "       -1.36590509, -0.27952635, -0.33702037, -0.1996091 , -0.17407585,\n",
       "       -0.49683466,  0.19530573,  1.04818735,  0.17944912,  0.87918777,\n",
       "       -0.52846089, -0.41127093,  0.        , -0.94259746,  0.09025567,\n",
       "        1.12711992, -0.4876314 , -0.04620563,  0.15248516,  0.        ,\n",
       "       -0.07208927,  0.        ,  0.27490857, -0.18288536,  0.72539734,\n",
       "        0.33007074,  0.26779484,  0.14852121,  0.        , -0.03914737,\n",
       "        0.15774265, -0.37588243, -1.56180604, -0.16244083,  0.34444867,\n",
       "        0.        ,  0.        , -0.28318157,  0.10076972, -0.19016721,\n",
       "       -0.74789479, -0.31595636, -0.17178893, -0.62203107])"
      ]
     },
     "execution_count": 21,
     "metadata": {},
     "output_type": "execute_result"
    }
   ],
   "source": [
    "print(coef_l1_LR.shape)\n",
    "coef_l1_LR"
   ]
  },
  {
   "cell_type": "code",
   "execution_count": 25,
   "metadata": {
    "ExecuteTime": {
     "end_time": "2017-10-11T14:27:54.831645Z",
     "start_time": "2017-10-11T14:27:54.799801Z"
    },
    "collapsed": false,
    "deletable": true,
    "editable": true,
    "run_control": {
     "frozen": false,
     "read_only": false
    }
   },
   "outputs": [
    {
     "name": "stdout",
     "output_type": "stream",
     "text": [
      "<class 'numpy.ndarray'>\n"
     ]
    },
    {
     "data": {
      "text/plain": [
       "(64,)"
      ]
     },
     "execution_count": 25,
     "metadata": {},
     "output_type": "execute_result"
    }
   ],
   "source": [
    "np.mean(coef_l1_LR == 0)\n",
    "print(type(coef_l1_LR))\n",
    "coef_l1_LR.shape"
   ]
  },
  {
   "cell_type": "code",
   "execution_count": 39,
   "metadata": {
    "ExecuteTime": {
     "end_time": "2017-10-11T14:38:26.908961Z",
     "start_time": "2017-10-11T14:38:26.834944Z"
    },
    "collapsed": false,
    "deletable": true,
    "editable": true,
    "run_control": {
     "frozen": false,
     "read_only": false
    }
   },
   "outputs": [
    {
     "name": "stdout",
     "output_type": "stream",
     "text": [
      "[[  9.88131292e-324   0.00000000e+000   4.94065646e-324]]\n",
      "(1, 3)\n",
      "<class 'numpy.ndarray'>\n"
     ]
    },
    {
     "data": {
      "text/plain": [
       "0.33333333333333331"
      ]
     },
     "execution_count": 39,
     "metadata": {},
     "output_type": "execute_result"
    }
   ],
   "source": [
    "b = [1,2,0,1]\n",
    "a = np.ndarray([1,3],buffer = np.array([2,0,1]) )\n",
    "print(a)\n",
    "print(a.shape)\n",
    "print(type(a))\n",
    "np.mean( a == 0)\n",
    "\n"
   ]
  },
  {
   "cell_type": "code",
   "execution_count": 41,
   "metadata": {
    "ExecuteTime": {
     "end_time": "2017-10-11T14:40:28.935037Z",
     "start_time": "2017-10-11T14:40:28.906170Z"
    },
    "collapsed": false
   },
   "outputs": [
    {
     "name": "stdout",
     "output_type": "stream",
     "text": [
      "[1 2 0 2]\n"
     ]
    }
   ],
   "source": [
    "a = np.array([1,2,0,2])\n",
    "np.mean(a==0)\n",
    "print(a)"
   ]
  },
  {
   "cell_type": "code",
   "execution_count": 59,
   "metadata": {
    "ExecuteTime": {
     "end_time": "2017-10-11T03:55:49.064512Z",
     "start_time": "2017-10-11T03:55:48.163693Z"
    },
    "collapsed": false,
    "deletable": true,
    "editable": true,
    "run_control": {
     "frozen": false,
     "read_only": false
    }
   },
   "outputs": [
    {
     "name": "stdout",
     "output_type": "stream",
     "text": [
      "C=100.00\n",
      "Sparsity with L1 penalty: 6.25%\n",
      "score with L1 penalty: 0.9098\n",
      "Sparsity with L2 penalty: 4.69%\n",
      "score with L2 penalty: 0.9098\n",
      "C=1.00\n",
      "Sparsity with L1 penalty: 9.38%\n",
      "score with L1 penalty: 0.9098\n",
      "Sparsity with L2 penalty: 4.69%\n",
      "score with L2 penalty: 0.9093\n",
      "C=0.01\n",
      "Sparsity with L1 penalty: 85.94%\n",
      "score with L1 penalty: 0.8625\n",
      "Sparsity with L2 penalty: 4.69%\n",
      "score with L2 penalty: 0.8915\n"
     ]
    },
    {
     "data": {
      "image/png": "[encoded data removed]",
      "text/plain": [
       "<matplotlib.figure.Figure at 0x7ff9a7b1f9b0>"
      ]
     },
     "metadata": {},
     "output_type": "display_data"
    }
   ],
   "source": [
    "for i,C in enumerate((100, 1, 0.01)):\n",
    "    clf_l1_LR = LogisticRegression(C=C, penalty='l1', tol=0.01)\n",
    "    clf_l2_LR = LogisticRegression(C=C, penalty='l2', tol=0.01)\n",
    "    clf_l1_LR.fit(X, y)\n",
    "    clf_l2_LR.fit(X, y)\n",
    "    \n",
    "    coef_l1_LR = clf_l1_LR.coef_.ravel()\n",
    "    coef_l2_LR = clf_l2_LR.coef_.ravel()\n",
    "    \n",
    "     # coef_l1_LR contains zeros due to the\n",
    "    # L1 sparsity inducing norm\n",
    "    # sparsity是如何计算度量的？\n",
    "    sparsity_l1_LR = np.mean(coef_l1_LR == 0) * 100\n",
    "    sparsity_l2_LR = np.mean(coef_l2_LR == 0) * 100\n",
    "\n",
    "    print(\"C=%.2f\" % C)\n",
    "    print(\"Sparsity with L1 penalty: %.2f%%\" % sparsity_l1_LR)\n",
    "    print(\"score with L1 penalty: %.4f\" % clf_l1_LR.score(X, y))\n",
    "    print(\"Sparsity with L2 penalty: %.2f%%\" % sparsity_l2_LR)\n",
    "    print(\"score with L2 penalty: %.4f\" % clf_l2_LR.score(X, y))\n",
    "    \n",
    "#     coef 可视化\n",
    "    \n",
    "    l1_plot = plt.subplot(3, 2, 2 * i + 1)\n",
    "    l2_plot = plt.subplot(3, 2, 2 * (i + 1))\n",
    "    if i == 0:\n",
    "        l1_plot.set_title('L1 Penalty')\n",
    "        l2_plot.set_title('L2 Penalty')\n",
    "        \n",
    "    l1_plot.imshow(np.abs(coef_l1_LR.reshape(8, 8)), interpolation='nearest',cmap='binary', vmax=1, vmin=0)\n",
    "    l2_plot.imshow(np.abs(coef_l2_LR.reshape(8, 8)), cmap='binary', vmax=1, vmin=0)\n",
    "    plt.text(-12, 3, \"C = %.2f\" % C)\n",
    "    \n",
    "plt.show()"
   ]
  },
  {
   "cell_type": "code",
   "execution_count": 13,
   "metadata": {
    "ExecuteTime": {
     "end_time": "2017-10-11T06:28:02.959813Z",
     "start_time": "2017-10-11T06:28:02.916575Z"
    },
    "collapsed": false,
    "deletable": true,
    "editable": true,
    "run_control": {
     "frozen": false,
     "read_only": false
    },
    "scrolled": true
   },
   "outputs": [
    {
     "name": "stdout",
     "output_type": "stream",
     "text": [
      "   A  B\n",
      "0  5  1\n",
      "1  6  2\n",
      "2  3  3\n",
      "3  4  5\n"
     ]
    },
    {
     "data": {
      "text/html": [
       "<div>\n",
       "<style>\n",
       "    .dataframe thead tr:only-child th {\n",
       "        text-align: right;\n",
       "    }\n",
       "\n",
       "    .dataframe thead th {\n",
       "        text-align: left;\n",
       "    }\n",
       "\n",
       "    .dataframe tbody tr th {\n",
       "        vertical-align: top;\n",
       "    }\n",
       "</style>\n",
       "<table border=\"1\" class=\"dataframe\">\n",
       "  <thead>\n",
       "    <tr style=\"text-align: right;\">\n",
       "      <th></th>\n",
       "      <th>A</th>\n",
       "      <th>B</th>\n",
       "    </tr>\n",
       "  </thead>\n",
       "  <tbody>\n",
       "    <tr>\n",
       "      <th>0</th>\n",
       "      <td>5</td>\n",
       "      <td>1</td>\n",
       "    </tr>\n",
       "    <tr>\n",
       "      <th>1</th>\n",
       "      <td>6</td>\n",
       "      <td>2</td>\n",
       "    </tr>\n",
       "  </tbody>\n",
       "</table>\n",
       "</div>"
      ],
      "text/plain": [
       "   A  B\n",
       "0  5  1\n",
       "1  6  2"
      ]
     },
     "execution_count": 13,
     "metadata": {},
     "output_type": "execute_result"
    }
   ],
   "source": [
    "import pandas as pd\n",
    "s = pd.Series([3,4])\n",
    "df = pd.DataFrame({'A' : [5,6,3,4], 'B' : [1,2,3, 5]})\n",
    "print(df)\n",
    "\n",
    "df[df['A'].isin(s)]\n",
    "\n",
    "df[-df['B'].isin(df['A'])]"
   ]
  },
  {
   "cell_type": "markdown",
   "metadata": {
    "deletable": true,
    "editable": true,
    "run_control": {
     "frozen": false,
     "read_only": false
    }
   },
   "source": [
    "可以看出，正则化系数C越小，模型参数越稀疏。  \n",
    "L1正则化模型参数较L2正则化模型参数稀疏。"
   ]
  }
 ],
 "metadata": {
  "kernelspec": {
   "display_name": "Python 3",
   "language": "python",
   "name": "python3"
  },
  "language_info": {
   "codemirror_mode": {
    "name": "ipython",
    "version": 3
   },
   "file_extension": ".py",
   "mimetype": "text/x-python",
   "name": "python",
   "nbconvert_exporter": "python",
   "pygments_lexer": "ipython3",
   "version": "3.6.3"
  }
 },
 "nbformat": 4,
 "nbformat_minor": 2
}
