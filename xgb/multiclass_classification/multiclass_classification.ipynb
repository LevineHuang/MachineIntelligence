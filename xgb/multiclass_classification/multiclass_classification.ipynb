{
 "cells": [
  {
   "cell_type": "code",
   "execution_count": 1,
   "metadata": {
    "ExecuteTime": {
     "end_time": "2017-10-28T13:11:16.774286Z",
     "start_time": "2017-10-28T13:11:15.963734Z"
    },
    "collapsed": false,
    "deletable": true,
    "editable": true,
    "run_control": {
     "frozen": false,
     "read_only": false
    }
   },
   "outputs": [
    {
     "name": "stdout",
     "output_type": "stream",
     "text": [
      "use existing data to run multi class classification\n",
      "[0]\ttrain-merror:0.011719\ttest-merror:0.127273\n",
      "[1]\ttrain-merror:0.015625\ttest-merror:0.127273\n",
      "[2]\ttrain-merror:0.011719\ttest-merror:0.109091\n",
      "[3]\ttrain-merror:0.007812\ttest-merror:0.081818\n",
      "[4]\ttrain-merror:0.007812\ttest-merror:0.090909\n",
      "Test error using softmax = 0.0909090909091\n",
      "[0]\ttrain-merror:0.011719\ttest-merror:0.127273\n",
      "[1]\ttrain-merror:0.015625\ttest-merror:0.127273\n",
      "[2]\ttrain-merror:0.011719\ttest-merror:0.109091\n",
      "[3]\ttrain-merror:0.007812\ttest-merror:0.081818\n",
      "[4]\ttrain-merror:0.007812\ttest-merror:0.090909\n",
      "Test error using softprob = 0.0909090909091\n"
     ]
    }
   ],
   "source": [
    "!sh ./runexp.sh"
   ]
  },
  {
   "cell_type": "code",
   "execution_count": null,
   "metadata": {
    "ExecuteTime": {
     "start_time": "2017-10-28T13:11:28.471Z"
    },
    "collapsed": false
   },
   "outputs": [
    {
     "name": "stdout",
     "output_type": "stream",
     "text": [
      "dermatology.data\t\t README.md  train.py\n",
      "multiclass_classification.ipynb  runexp.sh\n",
      "2,2,0,3,0,0,0,0,1,0,0,0,0,0,0,3,2,0,0,0,0,0,0,0,0,0,0,3,0,0,0,1,0,55,2\n",
      "3,3,3,2,1,0,0,0,1,1,1,0,0,1,0,1,2,0,2,2,2,2,2,1,0,0,0,0,0,0,0,1,0,8,1\n",
      "2,1,2,3,1,3,0,3,0,0,0,1,0,0,0,1,2,0,2,0,0,0,0,0,2,0,2,3,2,0,0,2,3,26,3\n",
      "2,2,2,0,0,0,0,0,3,2,0,0,0,3,0,0,2,0,3,2,2,2,2,0,0,3,0,0,0,0,0,3,0,40,1\n",
      "2,3,2,2,2,2,0,2,0,0,0,1,0,0,0,1,2,0,0,0,0,0,0,0,2,2,3,2,3,0,0,2,3,45,3\n",
      "2,3,2,0,0,0,0,0,0,0,0,0,2,1,0,2,2,0,2,0,0,0,1,0,0,0,0,2,0,0,0,1,0,41,2\n",
      "2,1,0,2,0,0,0,0,0,0,0,0,0,0,3,1,3,0,0,0,2,0,0,0,0,0,0,0,0,0,0,2,0,18,5\n",
      "2,2,3,3,3,3,0,2,0,0,0,2,0,0,0,2,3,0,0,0,0,0,0,0,0,2,2,3,2,0,0,3,3,57,3\n",
      "2,2,1,0,2,0,0,0,0,0,0,0,0,0,0,2,1,0,1,0,0,0,0,0,0,0,0,2,0,0,0,2,0,22,4\n",
      "2,2,1,0,1,0,0,0,0,0,0,0,0,0,0,3,2,0,2,0,0,0,0,0,0,0,0,2,0,0,0,2,0,30,4\n",
      "3,3,2,1,1,0,0,0,2,2,1,0,0,0,0,0,3,2,3,2,2,2,1,1,0,0,0,0,0,0,0,1,0,20,1\n",
      "2,2,0,3,0,0,0,0,0,0,0,0,0,2,0,2,2,0,0,0,0,0,1,0,0,0,0,3,0,0,0,1,0,21,2\n",
      "3,3,1,2,0,0,0,0,0,1,0,0,0,2,0,3,1,0,1,0,0,0,0,0,0,0,0,2,0,0,0,1,0,22,2\n",
      "2,3,3,0,0,0,0,0,1,1,1,0,0,1,0,0,2,1,2,1,2,3,0,2,0,0,0,0,0,0,0,2,0,10,1\n",
      "2,2,3,3,0,3,0,2,0,0,0,2,0,0,0,1,1,1,1,0,0,0,0,0,2,0,3,0,3,0,0,1,3,65,3\n",
      "1,1,0,1,3,0,0,0,0,0,0,0,0,0,0,1,1,0,1,0,0,0,0,0,0,0,0,2,0,0,0,2,0,40,4\n",
      "2,2,1,3,0,0,0,0,0,0,0,0,0,2,0,2,1,0,1,0,0,0,0,0,0,0,0,0,0,0,0,1,0,30,2\n",
      "3,3,3,0,0,0,0,0,3,3,1,0,0,2,0,0,2,0,2,3,3,3,2,3,0,3,0,0,0,0,0,2,0,38,1\n",
      "2,1,3,3,3,3,0,0,2,0,0,3,0,0,0,3,2,0,1,0,0,0,0,0,3,0,2,0,3,0,0,2,3,23,3\n",
      "1,1,0,3,0,0,0,0,0,0,0,0,0,0,3,0,3,2,2,0,3,0,0,0,0,0,0,1,0,0,0,2,0,17,5\n",
      "2,1,1,2,0,0,3,0,1,2,0,0,0,1,0,0,1,2,2,0,1,0,1,0,0,0,0,0,0,1,2,1,0,8,6\n",
      "3,2,2,0,0,0,0,0,0,0,0,0,0,2,0,2,2,1,2,0,2,1,2,0,0,0,0,3,0,0,0,2,0,51,2\n",
      "2,2,0,2,0,0,0,0,0,0,0,0,0,0,1,1,3,1,2,0,2,1,0,0,0,0,0,1,0,1,0,2,0,42,5\n",
      "\u001b[7m--More--(6%)\u001b[m"
     ]
    }
   ],
   "source": [
    "! ls\n",
    "! more dermatology.data"
   ]
  },
  {
   "cell_type": "code",
   "execution_count": 2,
   "metadata": {
    "ExecuteTime": {
     "end_time": "2017-10-28T13:20:19.146124Z",
     "start_time": "2017-10-28T13:20:18.737174Z"
    },
    "collapsed": true
   },
   "outputs": [],
   "source": [
    "from __future__ import division\n",
    "import numpy as np\n",
    "import xgboost as xgb"
   ]
  },
  {
   "cell_type": "code",
   "execution_count": 31,
   "metadata": {
    "ExecuteTime": {
     "end_time": "2017-10-28T13:56:32.735188Z",
     "start_time": "2017-10-28T13:56:32.679285Z"
    },
    "collapsed": false
   },
   "outputs": [
    {
     "data": {
      "text/plain": [
       "array([[  2.,   2.,   0., ...,   0.,  55.,   1.],\n",
       "       [  3.,   3.,   3., ...,   0.,   8.,   0.],\n",
       "       [  2.,   1.,   2., ...,   3.,  26.,   2.],\n",
       "       ..., \n",
       "       [  3.,   2.,   2., ...,   3.,  28.,   2.],\n",
       "       [  2.,   1.,   3., ...,   3.,  50.,   2.],\n",
       "       [  3.,   2.,   2., ...,   0.,  35.,   0.]])"
      ]
     },
     "execution_count": 31,
     "metadata": {},
     "output_type": "execute_result"
    }
   ],
   "source": [
    "data = np.loadtxt('./dermatology.data', delimiter=',', converters={33: lambda x: 0 if x == b'?' else x, 34: lambda x:int(x) - 1})\n",
    "# data = np.loadtxt('./dermatology.data', delimiter=',', converters={33: lambda x: int(x == '?ba'), 34: lambda x:int(x) - 1})\n",
    "data"
   ]
  },
  {
   "cell_type": "code",
   "execution_count": 32,
   "metadata": {
    "ExecuteTime": {
     "end_time": "2017-10-28T13:56:33.171632Z",
     "start_time": "2017-10-28T13:56:33.142539Z"
    },
    "collapsed": false
   },
   "outputs": [
    {
     "data": {
      "text/plain": [
       "(366, 35)"
      ]
     },
     "execution_count": 32,
     "metadata": {},
     "output_type": "execute_result"
    }
   ],
   "source": [
    "sz = data.shape\n",
    "sz"
   ]
  },
  {
   "cell_type": "code",
   "execution_count": 33,
   "metadata": {
    "ExecuteTime": {
     "end_time": "2017-10-28T13:56:33.820968Z",
     "start_time": "2017-10-28T13:56:33.776670Z"
    },
    "collapsed": false
   },
   "outputs": [
    {
     "name": "stdout",
     "output_type": "stream",
     "text": [
      "(256, 35) (110, 35)\n"
     ]
    },
    {
     "data": {
      "text/plain": [
       "<xgboost.core.DMatrix at 0x7f16cc38a1d0>"
      ]
     },
     "execution_count": 33,
     "metadata": {},
     "output_type": "execute_result"
    }
   ],
   "source": [
    "train = data[0:int(sz[0] * 0.7), :]\n",
    "test = data[int(sz[0] * 0.7):, :]\n",
    "\n",
    "print(train.shape, test.shape)\n",
    "\n",
    "train_X, train_Y = train[:, :33], train[:, 34]\n",
    "test_X, test_Y = test[:, :33], test[:, 34]\n",
    "\n",
    "xg_train = xgb.DMatrix(train_X, label=train_Y)\n",
    "xg_test = xgb.DMatrix(test_X, label=test_Y)\n",
    "\n",
    "xg_train"
   ]
  },
  {
   "cell_type": "code",
   "execution_count": 48,
   "metadata": {
    "ExecuteTime": {
     "end_time": "2017-10-29T00:26:42.535620Z",
     "start_time": "2017-10-29T00:26:42.469308Z"
    },
    "collapsed": false
   },
   "outputs": [
    {
     "name": "stdout",
     "output_type": "stream",
     "text": [
      "[0]\ttrain-merror:0.011719\ttest-merror:0.127273\n",
      "[1]\ttrain-merror:0.015625\ttest-merror:0.127273\n",
      "[2]\ttrain-merror:0.011719\ttest-merror:0.109091\n",
      "[3]\ttrain-merror:0.007812\ttest-merror:0.081818\n",
      "[4]\ttrain-merror:0.007812\ttest-merror:0.090909\n",
      "Test error using softmax = 0.09090909090909091\n"
     ]
    }
   ],
   "source": [
    "# 设置模型参数\n",
    "param = {}\n",
    "# use softmax multi-class classification\n",
    "param['objective'] = 'multi:softmax'\n",
    "# scale weight of positive examples\n",
    "param['eta'] = 0.1\n",
    "param['max_depth'] = 6\n",
    "param['silent'] = 1\n",
    "param['nthread'] = 4\n",
    "param['num_class'] = 6\n",
    "\n",
    "watchlist = [(xg_train, 'train'), (xg_test, 'test')]\n",
    "num_round = 5\n",
    "bst = xgb.train(param, xg_train, num_round, watchlist)\n",
    "# get prediction\n",
    "pred = bst.predict(xg_test)\n",
    "error_rate = np.sum(pred != test_Y) / test_Y.shape[0]\n",
    "print('Test error using softmax = {}'.format(error_rate))"
   ]
  },
  {
   "cell_type": "code",
   "execution_count": 49,
   "metadata": {
    "ExecuteTime": {
     "end_time": "2017-10-29T00:26:46.357530Z",
     "start_time": "2017-10-29T00:26:46.283702Z"
    },
    "collapsed": false
   },
   "outputs": [
    {
     "data": {
      "image/svg+xml": [
       "<?xml version=\"1.0\" encoding=\"UTF-8\" standalone=\"no\"?>\n",
       "<!DOCTYPE svg PUBLIC \"-//W3C//DTD SVG 1.1//EN\"\n",
       " \"http://www.w3.org/Graphics/SVG/1.1/DTD/svg11.dtd\">\n",
       "<!-- Generated by graphviz version 2.38.0 (20140413.2041)\n",
       " -->\n",
       "<!-- Title: %3 Pages: 1 -->\n",
       "<svg width=\"472pt\" height=\"302pt\"\n",
       " viewBox=\"0.00 0.00 472.00 301.99\" xmlns=\"http://www.w3.org/2000/svg\" xmlns:xlink=\"http://www.w3.org/1999/xlink\">\n",
       "<g id=\"graph0\" class=\"graph\" transform=\"scale(1 1) rotate(0) translate(4 297.986)\">\n",
       "<title>%3</title>\n",
       "<polygon fill=\"white\" stroke=\"none\" points=\"-4,4 -4,-297.986 468,-297.986 468,4 -4,4\"/>\n",
       "<!-- 0 -->\n",
       "<g id=\"node1\" class=\"node\"><title>0</title>\n",
       "<ellipse fill=\"none\" stroke=\"black\" cx=\"238.5\" cy=\"-254.99\" rx=\"38.9931\" ry=\"38.9931\"/>\n",
       "<text text-anchor=\"middle\" x=\"238.5\" y=\"-251.29\" font-family=\"Times,serif\" font-size=\"14.00\">f19&lt;0.5</text>\n",
       "</g>\n",
       "<!-- 1 -->\n",
       "<g id=\"node2\" class=\"node\"><title>1</title>\n",
       "<ellipse fill=\"none\" stroke=\"black\" cx=\"176.5\" cy=\"-125.997\" rx=\"38.9931\" ry=\"38.9931\"/>\n",
       "<text text-anchor=\"middle\" x=\"176.5\" y=\"-122.297\" font-family=\"Times,serif\" font-size=\"14.00\">f21&lt;0.5</text>\n",
       "</g>\n",
       "<!-- 0&#45;&gt;1 -->\n",
       "<g id=\"edge1\" class=\"edge\"><title>0&#45;&gt;1</title>\n",
       "<path fill=\"none\" stroke=\"#0000ff\" d=\"M211.592,-226.434C204.476,-217.886 197.418,-208.053 192.5,-197.993 188.989,-190.81 186.235,-182.84 184.08,-174.911\"/>\n",
       "<polygon fill=\"#0000ff\" stroke=\"#0000ff\" points=\"187.422,-173.841 181.658,-164.951 180.621,-175.495 187.422,-173.841\"/>\n",
       "<text text-anchor=\"middle\" x=\"227\" y=\"-186.793\" font-family=\"Times,serif\" font-size=\"14.00\">yes, missing</text>\n",
       "</g>\n",
       "<!-- 2 -->\n",
       "<g id=\"node3\" class=\"node\"><title>2</title>\n",
       "<ellipse fill=\"none\" stroke=\"black\" cx=\"294.5\" cy=\"-125.997\" rx=\"34.394\" ry=\"34.394\"/>\n",
       "<text text-anchor=\"middle\" x=\"294.5\" y=\"-122.297\" font-family=\"Times,serif\" font-size=\"14.00\">f6&lt;0.5</text>\n",
       "</g>\n",
       "<!-- 0&#45;&gt;2 -->\n",
       "<g id=\"edge2\" class=\"edge\"><title>0&#45;&gt;2</title>\n",
       "<path fill=\"none\" stroke=\"#ff0000\" d=\"M253.95,-218.952C260.987,-202.995 269.356,-184.016 276.659,-167.455\"/>\n",
       "<polygon fill=\"#ff0000\" stroke=\"#ff0000\" points=\"279.985,-168.587 280.818,-158.024 273.58,-165.762 279.985,-168.587\"/>\n",
       "<text text-anchor=\"middle\" x=\"277.5\" y=\"-186.793\" font-family=\"Times,serif\" font-size=\"14.00\">no</text>\n",
       "</g>\n",
       "<!-- 3 -->\n",
       "<g id=\"node4\" class=\"node\"><title>3</title>\n",
       "<polygon fill=\"none\" stroke=\"black\" points=\"107,-36 0,-36 0,-0 107,-0 107,-36\"/>\n",
       "<text text-anchor=\"middle\" x=\"53.5\" y=\"-14.3\" font-family=\"Times,serif\" font-size=\"14.00\">leaf=&#45;0.0587906</text>\n",
       "</g>\n",
       "<!-- 1&#45;&gt;3 -->\n",
       "<g id=\"edge3\" class=\"edge\"><title>1&#45;&gt;3</title>\n",
       "<path fill=\"none\" stroke=\"#0000ff\" d=\"M145.242,-102.434C132.047,-92.5514 116.711,-80.5837 103.5,-69 94.4543,-61.0684 85.0069,-51.8821 76.791,-43.5642\"/>\n",
       "<polygon fill=\"#0000ff\" stroke=\"#0000ff\" points=\"79.1264,-40.9459 69.6389,-36.2302 74.1149,-45.8331 79.1264,-40.9459\"/>\n",
       "<text text-anchor=\"middle\" x=\"138\" y=\"-57.8\" font-family=\"Times,serif\" font-size=\"14.00\">yes, missing</text>\n",
       "</g>\n",
       "<!-- 4 -->\n",
       "<g id=\"node5\" class=\"node\"><title>4</title>\n",
       "<polygon fill=\"none\" stroke=\"black\" points=\"228,-36 125,-36 125,-0 228,-0 228,-36\"/>\n",
       "<text text-anchor=\"middle\" x=\"176.5\" y=\"-14.3\" font-family=\"Times,serif\" font-size=\"14.00\">leaf=0.0906977</text>\n",
       "</g>\n",
       "<!-- 1&#45;&gt;4 -->\n",
       "<g id=\"edge4\" class=\"edge\"><title>1&#45;&gt;4</title>\n",
       "<path fill=\"none\" stroke=\"#ff0000\" d=\"M176.5,-86.7294C176.5,-73.3369 176.5,-58.5812 176.5,-46.2707\"/>\n",
       "<polygon fill=\"#ff0000\" stroke=\"#ff0000\" points=\"180,-46.1774 176.5,-36.1775 173,-46.1775 180,-46.1774\"/>\n",
       "<text text-anchor=\"middle\" x=\"183.5\" y=\"-57.8\" font-family=\"Times,serif\" font-size=\"14.00\">no</text>\n",
       "</g>\n",
       "<!-- 5 -->\n",
       "<g id=\"node6\" class=\"node\"><title>5</title>\n",
       "<polygon fill=\"none\" stroke=\"black\" points=\"342.5,-36 246.5,-36 246.5,-0 342.5,-0 342.5,-36\"/>\n",
       "<text text-anchor=\"middle\" x=\"294.5\" y=\"-14.3\" font-family=\"Times,serif\" font-size=\"14.00\">leaf=0.285523</text>\n",
       "</g>\n",
       "<!-- 2&#45;&gt;5 -->\n",
       "<g id=\"edge5\" class=\"edge\"><title>2&#45;&gt;5</title>\n",
       "<path fill=\"none\" stroke=\"#0000ff\" d=\"M294.5,-91.4586C294.5,-76.9097 294.5,-60.0888 294.5,-46.3183\"/>\n",
       "<polygon fill=\"#0000ff\" stroke=\"#0000ff\" points=\"298,-46.0301 294.5,-36.0302 291,-46.0302 298,-46.0301\"/>\n",
       "<text text-anchor=\"middle\" x=\"329\" y=\"-57.8\" font-family=\"Times,serif\" font-size=\"14.00\">yes, missing</text>\n",
       "</g>\n",
       "<!-- 6 -->\n",
       "<g id=\"node7\" class=\"node\"><title>6</title>\n",
       "<polygon fill=\"none\" stroke=\"black\" points=\"464,-36 361,-36 361,-0 464,-0 464,-36\"/>\n",
       "<text text-anchor=\"middle\" x=\"412.5\" y=\"-14.3\" font-family=\"Times,serif\" font-size=\"14.00\">leaf=0.0906977</text>\n",
       "</g>\n",
       "<!-- 2&#45;&gt;6 -->\n",
       "<g id=\"edge6\" class=\"edge\"><title>2&#45;&gt;6</title>\n",
       "<path fill=\"none\" stroke=\"#ff0000\" d=\"M322.501,-105.393C336.506,-95.1284 353.425,-82.0113 367.5,-69 375.818,-61.3102 384.293,-52.2693 391.612,-44.0052\"/>\n",
       "<polygon fill=\"#ff0000\" stroke=\"#ff0000\" points=\"394.314,-46.2329 398.233,-36.3895 389.03,-41.6405 394.314,-46.2329\"/>\n",
       "<text text-anchor=\"middle\" x=\"389.5\" y=\"-57.8\" font-family=\"Times,serif\" font-size=\"14.00\">no</text>\n",
       "</g>\n",
       "</g>\n",
       "</svg>\n"
      ],
      "text/plain": [
       "<graphviz.dot.Digraph at 0x7f16bf6b3160>"
      ]
     },
     "execution_count": 49,
     "metadata": {},
     "output_type": "execute_result"
    }
   ],
   "source": [
    "xgb.to_graphviz(bst, fmap='', num_trees=0, rankdir='UT', yes_color='#0000FF', no_color='#FF0000')\n"
   ]
  },
  {
   "cell_type": "code",
   "execution_count": 39,
   "metadata": {
    "ExecuteTime": {
     "end_time": "2017-10-28T13:58:12.958154Z",
     "start_time": "2017-10-28T13:58:12.906309Z"
    },
    "collapsed": false
   },
   "outputs": [
    {
     "name": "stdout",
     "output_type": "stream",
     "text": [
      "[0]\ttrain-merror:0.011719\ttest-merror:0.127273\n",
      "[1]\ttrain-merror:0.015625\ttest-merror:0.127273\n",
      "[2]\ttrain-merror:0.011719\ttest-merror:0.109091\n",
      "[3]\ttrain-merror:0.007812\ttest-merror:0.081818\n",
      "[4]\ttrain-merror:0.007812\ttest-merror:0.090909\n",
      "Test error using softprob = 0.09090909090909091\n"
     ]
    }
   ],
   "source": [
    "# do the same thing again, but output probabilities\n",
    "param['objective'] = 'multi:softprob'\n",
    "bst = xgb.train(param, xg_train, num_round, watchlist)\n",
    "# Note: this convention has been changed since xgboost-unity\n",
    "# get prediction, this is in 1D array, need reshape to (ndata, nclass)\n",
    "pred_prob = bst.predict(xg_test).reshape(test_Y.shape[0], 6)\n",
    "pred_label = np.argmax(pred_prob, axis=1)\n",
    "error_rate = np.sum(pred != test_Y) / test_Y.shape[0]\n",
    "print('Test error using softprob = {}'.format(error_rate))"
   ]
  }
 ],
 "metadata": {
  "kernelspec": {
   "display_name": "Python 3",
   "language": "python",
   "name": "python3"
  },
  "language_info": {
   "codemirror_mode": {
    "name": "ipython",
    "version": 3
   },
   "file_extension": ".py",
   "mimetype": "text/x-python",
   "name": "python",
   "nbconvert_exporter": "python",
   "pygments_lexer": "ipython3",
   "version": "3.6.3"
  }
 },
 "nbformat": 4,
 "nbformat_minor": 2
}
